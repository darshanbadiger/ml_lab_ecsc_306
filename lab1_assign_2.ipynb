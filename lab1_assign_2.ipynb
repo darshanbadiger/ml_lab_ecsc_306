{
 "cells": [
  {
   "cell_type": "code",
   "execution_count": null,
   "metadata": {
    "collapsed": true,
    "slideshow": {
     "slide_type": "slide"
    }
   },
   "outputs": [],
   "source": [
    "# Write a program using tensorflow to calculate : \n",
    "    $$y=mx+c$$"
   ]
  },
  {
   "cell_type": "markdown",
   "metadata": {
    "slideshow": {
     "slide_type": "slide"
    }
   },
   "source": [
    "### Part 1\n",
    "\n",
    "1. Read 2 arrays x,y containing floating point values\n",
    "2. Calculate mean of x & y\n",
    "3. Calculate variance for x\n",
    "    $$variance(x)=sum((x-mean(x))^2)$$\n",
    "4. Calculate covariance of x & y\n",
    "    $$covariance = sum((x(i) - mean(x)) * (y(i) - mean(y)))$$\n",
    "5. Calculate value of c\n",
    "    $$c = covariance(x,y)/variance(x)$$\n",
    "6. Calculate value of m\n",
    "    $$m = mean(y) -c* mean(x)$$\n",
    "    "
   ]
  },
  {
   "cell_type": "code",
   "execution_count": 80,
   "metadata": {},
   "outputs": [
    {
     "name": "stdout",
     "output_type": "stream",
     "text": [
      "mean 17.805\n"
     ]
    }
   ],
   "source": [
    "import tensorflow as tf\n",
    "\n",
    "with tf.name_scope(\"variance\"):\n",
    "    with tf.name_scope(\"mean_x\"):\n",
    "        a=tf.constant([8.0,6.0,30.2,27.02],shape=[1,4],name='a')\n",
    "        b=tf.constant([17.0,9.0,19.5,1.0],shape=[1,4],name='b')\n",
    "        x=tf.reduce_mean(a)\n",
    "        sess=tf.Session()\n",
    "print(\"mean\",sess.run(x))\n",
    "\n",
    "\n"
   ]
  },
  {
   "cell_type": "code",
   "execution_count": 79,
   "metadata": {},
   "outputs": [
    {
     "name": "stdout",
     "output_type": "stream",
     "text": [
      "mean 11.625\n"
     ]
    }
   ],
   "source": [
    "\n",
    "\n",
    "with tf.name_scope(\"mean_y\"):\n",
    "    y=tf.reduce_mean(b)\n",
    "    sess=tf.Session()\n",
    "print(\"mean\",sess.run(y))\n"
   ]
  },
  {
   "cell_type": "code",
   "execution_count": 78,
   "metadata": {},
   "outputs": [
    {
     "name": "stdout",
     "output_type": "stream",
     "text": [
      "[[ -9.80500031 -11.80500031  12.39500046   9.21500015]]\n",
      "474.048\n"
     ]
    }
   ],
   "source": [
    "\n",
    "d=tf.subtract(a,x)\n",
    "sess=tf.Session()\n",
    "print(sess.run(d ))\n",
    "\n",
    "e=tf.square(d)\n",
    "f=tf.reduce_sum(e)\n",
    "sess=tf.Session()\n",
    "print(sess.run(f))\n"
   ]
  },
  {
   "cell_type": "code",
   "execution_count": 81,
   "metadata": {},
   "outputs": [
    {
     "name": "stdout",
     "output_type": "stream",
     "text": [
      "-22.0125\n"
     ]
    }
   ],
   "source": [
    "\n",
    "with tf.name_scope(\"covar\"):\n",
    "    g=tf.subtract(b,y)\n",
    "    sess=tf.Session()\n",
    "    g=tf.multiply(d,g)\n",
    "    h=tf.reduce_sum(g)\n",
    "print(sess.run(h))\n",
    "\n"
   ]
  },
  {
   "cell_type": "code",
   "execution_count": 83,
   "metadata": {},
   "outputs": [
    {
     "name": "stdout",
     "output_type": "stream",
     "text": [
      "-0.0464351\n"
     ]
    }
   ],
   "source": [
    "\n",
    "with tf.name_scope(\"value_c\"):\n",
    "    j=tf.divide(h,f)\n",
    "print(sess.run(j))\n"
   ]
  },
  {
   "cell_type": "code",
   "execution_count": 84,
   "metadata": {},
   "outputs": [
    {
     "name": "stdout",
     "output_type": "stream",
     "text": [
      "-0.0464351\n"
     ]
    }
   ],
   "source": [
    "\n",
    "with tf.name_scope(\"value_m\"):\n",
    "    i=tf.multiply(j,x)\n",
    "    k=tf.subtract(y,i)\n",
    "print(sess.run(j))"
   ]
  },
  {
   "cell_type": "code",
   "execution_count": 86,
   "metadata": {
    "collapsed": true
   },
   "outputs": [],
   "source": [
    "with tf.Session() as rb:\n",
    "    Writer =tf.summary.FileWriter(\"/tmp/tboard/output6\",rb.graph)\n",
    "    Writer.close()"
   ]
  },
  {
   "cell_type": "markdown",
   "metadata": {
    "slideshow": {
     "slide_type": "slide"
    }
   },
   "source": [
    "### Part 2\n",
    "\n",
    "1. Plot graph for actual values against predicted value\n",
    "2. Calculate root mean square error."
   ]
  }
 ],
 "metadata": {
  "celltoolbar": "Slideshow",
  "kernelspec": {
   "display_name": "Python 3",
   "language": "python",
   "name": "python3"
  },
  "language_info": {
   "codemirror_mode": {
    "name": "ipython",
    "version": 3
   },
   "file_extension": ".py",
   "mimetype": "text/x-python",
   "name": "python",
   "nbconvert_exporter": "python",
   "pygments_lexer": "ipython3",
   "version": "3.6.1"
  }
 },
 "nbformat": 4,
 "nbformat_minor": 2
}
