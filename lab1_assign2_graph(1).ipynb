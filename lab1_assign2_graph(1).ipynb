{
 "cells": [
  {
   "cell_type": "markdown",
   "metadata": {
    "slideshow": {
     "slide_type": "slide"
    }
   },
   "source": [
    "Write a program using tensorflow to calculate : \n",
    "    $$y=mx+c$$"
   ]
  },
  {
   "cell_type": "markdown",
   "metadata": {
    "slideshow": {
     "slide_type": "slide"
    }
   },
   "source": [
    "### Part 1\n",
    "\n",
    "1. Read 2 arrays x,y containing floating point values\n",
    "2. Calculate mean of x & y\n",
    "3. Calculate variance for x\n",
    "    $$variance(x)=sum((x-mean(x))^2)$$\n",
    "4. Calculate covariance of x & y\n",
    "    $$covariance = sum((x(i) - mean(x)) * (y(i) - mean(y)))$$\n",
    "5. Calculate value of c\n",
    "    $$c = covariance(x,y)/variance(x)$$\n",
    "6. Calculate value of m\n",
    "    $$m = mean(y) -c* mean(x)$$\n",
    "    "
   ]
  },
  {
   "cell_type": "code",
   "execution_count": 2,
   "metadata": {
    "collapsed": true
   },
   "outputs": [],
   "source": [
    "import tensorflow as tf"
   ]
  },
  {
   "cell_type": "code",
   "execution_count": 4,
   "metadata": {},
   "outputs": [
    {
     "name": "stdout",
     "output_type": "stream",
     "text": [
      "mean of X= 4.71667\n"
     ]
    }
   ],
   "source": [
    "with tf.name_scope(\"mean_x\"):\n",
    "        a=tf.constant([2.1,3.0,4.0,5.0,6.6,7.6],shape=[1,6],name='a')\n",
    "      \n",
    "        x=tf.reduce_mean(a)\n",
    "        sess=tf.Session()\n",
    "print(\"mean of X=\",sess.run(x))"
   ]
  },
  {
   "cell_type": "code",
   "execution_count": 5,
   "metadata": {},
   "outputs": [
    {
     "name": "stdout",
     "output_type": "stream",
     "text": [
      "Mean of X= 4.5\n"
     ]
    }
   ],
   "source": [
    "import tensorflow as tf\n",
    "\n",
    "x1=tf.constant([2.1,3.0,4.0,5.0,6.6,7.6])\n",
    "\n",
    "s=tf.constant(0)\n",
    "\n",
    "with tf.name_scope(\"Mean_of_X\"):\n",
    "    with tf.Session() as sess:\n",
    "        for i in range (len(sess.run(x1))):\n",
    "            output=sess.run(x1[i])\n",
    "            s=tf.add(s,output,name=\"add_values_of_x\")\n",
    "        c=tf.divide(s,len(sess.run(x1)), name=\"divide\")\n",
    "        avgx=sess.run(c)\n",
    "    print('Mean of X=',avgx)\n",
    "    \n"
   ]
  },
  {
   "cell_type": "code",
   "execution_count": 7,
   "metadata": {},
   "outputs": [
    {
     "name": "stdout",
     "output_type": "stream",
     "text": [
      "mean of Y= 4.71667\n"
     ]
    }
   ],
   "source": [
    "y1=tf.constant([2.1,3.0,4.0,5.0,6.6,7.6])\n",
    "with tf.name_scope(\"mean_y\"):\n",
    "    b=tf.constant([2.1,3.0,4.0,5.0,6.6,7.6],shape=[1,6],name='b')\n",
    "    y=tf.reduce_mean(b)\n",
    "    sess=tf.Session()\n",
    "print(\"mean of Y=\",sess.run(y))"
   ]
  },
  {
   "cell_type": "code",
   "execution_count": 8,
   "metadata": {},
   "outputs": [
    {
     "name": "stdout",
     "output_type": "stream",
     "text": [
      "Mean of Y= 4.5\n"
     ]
    }
   ],
   "source": [
    "y1=tf.constant([2.1,3.0,4.0,5.0,6.6,7.6])\n",
    "s1=tf.constant(0)\n",
    "with tf.name_scope(\"Mean_of_Y\"):\n",
    "    with tf.Session() as sess:\n",
    "        for i in range (len(sess.run(y1))):\n",
    "            output=sess.run(y1[i])\n",
    "            s1=tf.add(s1,output)\n",
    "        d=tf.divide(s1,len(sess.run(y1)), name=\"Divide\")\n",
    "        avgy=sess.run(d)\n",
    "    print('Mean of Y=',avgy)"
   ]
  },
  {
   "cell_type": "code",
   "execution_count": 9,
   "metadata": {},
   "outputs": [
    {
     "name": "stdout",
     "output_type": "stream",
     "text": [
      "Variance= 22.53\n"
     ]
    }
   ],
   "source": [
    "#variance of x\n",
    "var=tf.constant(0.0)\n",
    "\n",
    "with tf.name_scope(\"variance\"):\n",
    "    with tf.Session() as sess:\n",
    "        for i in range (len(sess.run(x1))):\n",
    "            a1=tf.subtract(sess.run(x1[i]), avgx)\n",
    "            b1=tf.square(a1)\n",
    "            var=tf.add(var,b1)\n",
    "        varianc=sess.run(var)\n",
    "    print(\"Variance=\",varianc)"
   ]
  },
  {
   "cell_type": "code",
   "execution_count": 10,
   "metadata": {},
   "outputs": [
    {
     "name": "stdout",
     "output_type": "stream",
     "text": [
      "Coveriance of X,Y= 22.53\n"
     ]
    }
   ],
   "source": [
    "#covarience of x and y\n",
    "cov=tf.constant(0.0)\n",
    "with tf.name_scope(\"cov\"):\n",
    "    with tf.Session() as sess:\n",
    "        for i in range(len(sess.run(x1))):\n",
    "            e=tf.subtract(sess.run(x1[i]),avgx)\n",
    "            f=tf.subtract(sess.run(y1[i]),avgy)\n",
    "            g=tf.multiply(e,f)\n",
    "            cov=tf.add(cov,g)\n",
    "        covr=sess.run(cov)\n",
    "print(\"Coveriance of X,Y=\",covr)\n",
    "            "
   ]
  },
  {
   "cell_type": "code",
   "execution_count": 11,
   "metadata": {},
   "outputs": [
    {
     "name": "stdout",
     "output_type": "stream",
     "text": [
      "Value of m= 1.0\n"
     ]
    }
   ],
   "source": [
    "\n",
    "#Value of m(slope)\n",
    "with tf.name_scope(\"Value_of_m\"):\n",
    "    with tf.Session() as sess:\n",
    "        t=tf.divide(cov,var)\n",
    "        slop =sess.run(t)\n",
    "        print(\"Value of m=\",slop)\n",
    "\n"
   ]
  },
  {
   "cell_type": "code",
   "execution_count": 12,
   "metadata": {},
   "outputs": [
    {
     "name": "stdout",
     "output_type": "stream",
     "text": [
      "Value of c= 4.5\n"
     ]
    }
   ],
   "source": [
    "#Value of c(constant)\n",
    "with tf.name_scope(\"Value_of_c\"):\n",
    "    h=tf.to_float(slop)\n",
    "    i=tf.to_float(avgx)\n",
    "    j=tf.multiply(h,i)\n",
    "    k=tf.to_float(avgy)\n",
    "    m=tf.subtract(k,j)\n",
    "    with tf.Session() as sess:\n",
    "        m=sess.run(k)\n",
    "print(\"Value of c=\",m)"
   ]
  },
  {
   "cell_type": "markdown",
   "metadata": {
    "slideshow": {
     "slide_type": "slide"
    }
   },
   "source": [
    "### Part 2\n",
    "\n",
    "1. Plot graph for actual values against predicted value\n",
    "2. Calculate root mean square error."
   ]
  },
  {
   "cell_type": "code",
   "execution_count": 13,
   "metadata": {},
   "outputs": [
    {
     "name": "stdout",
     "output_type": "stream",
     "text": [
      "[13.95, 18.0, 22.5, 27.0, 34.199997, 38.700001]\n"
     ]
    }
   ],
   "source": [
    "import tensorflow as tf\n",
    "import numpy as np\n",
    "import matplotlib.pyplot as plt\n",
    "\n",
    "with tf.Session() as sess:\n",
    "    x_grp=sess.run(x1)\n",
    "    y_grp=sess.run(y1)\n",
    "train_x=np.asarray(x_grp)\n",
    "train_y=np.asarray(y_grp)\n",
    "\n",
    "x_plot=tf.constant([2.1,3.0,4.0,5.0,6.6,7.6])\n",
    "with tf.Session() as sess:\n",
    "    x1_plot=sess.run(x_plot)\n",
    "x2_plot=np.asarray(x1_plot)\n",
    "\n",
    "y_plot=[0]*6\n",
    "\n",
    "with tf.Session() as sess:\n",
    "    for i in range (len(sess.run(x_plot))):\n",
    "        output=sess.run(x_plot[i])\n",
    "        l=tf.multiply(output,m)\n",
    "        n=tf.add(l,m)\n",
    "        y_plot[i]=sess.run(n)\n",
    "print (y_plot)\n"
   ]
  },
  {
   "cell_type": "code",
   "execution_count": 14,
   "metadata": {},
   "outputs": [
    {
     "data": {
      "image/png": "[encoded data removed]",
      "text/plain": [
       "<matplotlib.figure.Figure at 0x7f901aa912b0>"
      ]
     },
     "metadata": {},
     "output_type": "display_data"
    }
   ],
   "source": [
    "plt.plot(train_x,train_y,'yo',label='Original data')\n",
    "plt.plot(x2_plot,y_plot, label='fitted line')\n",
    "plt.legend()\n",
    "plt.show()"
   ]
  },
  {
   "cell_type": "code",
   "execution_count": 17,
   "metadata": {},
   "outputs": [
    {
     "data": {
      "image/png": "[encoded data removed]",
      "text/plain": [
       "<matplotlib.figure.Figure at 0x7f901111d978>"
      ]
     },
     "metadata": {},
     "output_type": "display_data"
    },
    {
     "name": "stdout",
     "output_type": "stream",
     "text": [
      "22.0629\n"
     ]
    }
   ],
   "source": [
    "#ROOT MEAN SQAURE ERROR\n",
    "import numpy as np\n",
    "import tensorflow as tf\n",
    "npx=np.asarray(x2_plot)\n",
    "npy=np.asarray(y_plot)\n",
    "\n",
    "GraphFit=np.polyfit(npx,npy,1)\n",
    "fitFunc=np.poly1d(GraphFit)\n",
    "\n",
    "plt.plot(npx,npy,'yo',npx,fitFunc(npx),'--k')\n",
    "\n",
    "plt.show()\n",
    "\n",
    "with tf.name_scope(\"Root_mean_square_error\"):\n",
    "    rmse=tf.sqrt(tf.reduce_mean(tf.squared_difference(x2_plot,y_plot)))\n",
    "\n",
    "with tf.Session() as sess:\n",
    "    print(sess.run(rmse))"
   ]
  },
  {
   "cell_type": "code",
   "execution_count": null,
   "metadata": {
    "collapsed": true
   },
   "outputs": [],
   "source": []
  }
 ],
 "metadata": {
  "celltoolbar": "Slideshow",
  "kernelspec": {
   "display_name": "Python 3",
   "language": "python",
   "name": "python3"
  },
  "language_info": {
   "codemirror_mode": {
    "name": "ipython",
    "version": 3
   },
   "file_extension": ".py",
   "mimetype": "text/x-python",
   "name": "python",
   "nbconvert_exporter": "python",
   "pygments_lexer": "ipython3",
   "version": "3.6.1"
  }
 },
 "nbformat": 4,
 "nbformat_minor": 2
}
