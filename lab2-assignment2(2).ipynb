{
 "cells": [
  {
   "cell_type": "code",
   "execution_count": 14,
   "metadata": {},
   "outputs": [
    {
     "name": "stdout",
     "output_type": "stream",
     "text": [
      "Extracting MNIST_data/train-images-idx3-ubyte.gz\n",
      "Extracting MNIST_data/train-labels-idx1-ubyte.gz\n",
      "Extracting MNIST_data/t10k-images-idx3-ubyte.gz\n",
      "Extracting MNIST_data/t10k-labels-idx1-ubyte.gz\n"
     ]
    }
   ],
   "source": [
    "import tensorflow as tf\n",
    "import matplotlib.pyplot as plt\n",
    "\n",
    "# Import MINST data\n",
    "from tensorflow.examples.tutorials.mnist import input_data\n",
    "mnist = input_data.read_data_sets(\"MNIST_data/\", one_hot=True)\n"
   ]
  },
  {
   "cell_type": "code",
   "execution_count": 15,
   "metadata": {
    "collapsed": true
   },
   "outputs": [],
   "source": [
    "a1 = tf.constant([1.0,2.0,3.0,5.0,7.0,4.0,8.0],name ='x')\n",
    "b1 = tf.constant([7.0,9.0,10.0,6.0,3.0,8.0,11.0],name='y')\n",
    "training_epoch = 500\n",
    "learning_rate = 0.005\n",
    "t1=0.0\n",
    "t0=0.0"
   ]
  },
  {
   "cell_type": "code",
   "execution_count": 16,
   "metadata": {},
   "outputs": [
    {
     "name": "stdout",
     "output_type": "stream",
     "text": [
      "h0 values: 0.5\n",
      "1.0\n"
     ]
    }
   ],
   "source": [
    "h0=tf.divide(1.0,tf.add(1.0,tf.exp(-tf.add(t0,tf.reduce_sum(tf.multiply(t1,a1))))))\n",
    "model=tf.global_variables_initializer()\n",
    "sess = tf.Session() \n",
    "print(\"h0 values:\",sess.run(h0))\n",
    "c=tf.cond(h0<0.5,lambda:0.00,lambda:1.00)\n",
    "print(sess.run(c))"
   ]
  },
  {
   "cell_type": "code",
   "execution_count": 17,
   "metadata": {},
   "outputs": [
    {
     "name": "stdout",
     "output_type": "stream",
     "text": [
      "Cost function: -inf\n",
      "After 500 epoch values:\n",
      "theta 1 :  0.685791\n",
      "theta 0 :  3.73659\n"
     ]
    }
   ],
   "source": [
    "#cost function\n",
    "v=tf.multiply(b1,tf.log(c))\n",
    "n=tf.subtract(1.0,b1)\n",
    "m=tf.log(tf.subtract(1.0,c))\n",
    "m1=tf.multiply(n,m)\n",
    "m2=tf.reduce_sum(tf.subtract(-v,m1))\n",
    "print(\"Cost function:\",sess.run(m2))\n",
    "\n",
    "for epoch in range(training_epoch):\n",
    "    \n",
    "                                #if error is greater than threshold value then stop the iteration\n",
    "    s1=tf.reduce_sum(tf.multiply(tf.subtract(tf.add(tf.multiply(a1,t1),t0),b1),a1))\n",
    "    s0=tf.reduce_sum(tf.subtract(tf.add(tf.multiply(a1,t1),t0),b1))\n",
    "    tn1 = tf.subtract(t1,tf.multiply(learning_rate,tf.divide(s1,tf.cast(tf.size(a1),tf.float32))))\n",
    "    tn0=  tf.subtract(t0,tf.multiply(learning_rate,tf.divide(s0,tf.cast(tf.size(a1),tf.float32))))\n",
    "    t1=tn1\n",
    "    t0=tn0\n",
    "    model=tf.global_variables_initializer()\n",
    "sess = tf.Session()\n",
    "print(\"After 500 epoch values:\")\n",
    "print(\"theta 1 : \",sess.run(tn1))\n",
    "print(\"theta 0 : \",sess.run(tn0))\n"
   ]
  },
  {
   "cell_type": "code",
   "execution_count": null,
   "metadata": {
    "collapsed": true
   },
   "outputs": [],
   "source": []
  }
 ],
 "metadata": {
  "kernelspec": {
   "display_name": "Python 3",
   "language": "python",
   "name": "python3"
  },
  "language_info": {
   "codemirror_mode": {
    "name": "ipython",
    "version": 3
   },
   "file_extension": ".py",
   "mimetype": "text/x-python",
   "name": "python",
   "nbconvert_exporter": "python",
   "pygments_lexer": "ipython3",
   "version": "3.6.1"
  }
 },
 "nbformat": 4,
 "nbformat_minor": 2
}
