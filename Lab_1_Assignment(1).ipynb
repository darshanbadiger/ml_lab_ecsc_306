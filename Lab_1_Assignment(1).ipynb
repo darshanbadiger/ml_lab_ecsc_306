{
 "cells": [
  {
   "cell_type": "markdown",
   "metadata": {
    "slideshow": {
     "slide_type": "slide"
    }
   },
   "source": [
    "## Assignment for Lab1\n",
    "\n",
    "\n",
    "\n",
    "### Write the program to generate tensorboard graph for below equations. \n",
    "##### The code and images should be uploaded to your own repository\n",
    "\n"
   ]
  },
  {
   "cell_type": "markdown",
   "metadata": {
    "slideshow": {
     "slide_type": "slide"
    }
   },
   "source": [
    "## Slot : A1\n",
    "\n",
    "1. $$ (a+b)^2 = a^2 + b^2 + 2ab $$\n",
    "2. $$ (a+b+c)^2 = a^2 + b^2 + 2ab +2bc + 2ca $$\n",
    "\n",
    "\n",
    "## Slot : A2\n",
    "\n",
    "1. $$ (a-b)^2 = a^2 + b^2 - 2ab $$\n",
    "2. $$ (a^3+ b^3) = (a+b)(a^2 -ab + b^2) $$\n",
    "\n",
    "\n",
    "\n",
    "## Slot : B1\n",
    "\n",
    "1. $$ (a+b)^2 = a^2 + b^2 + 2ab $$\n",
    "2. $$ (a^3 - b^3) = (a- b)(a^2 + ab + b^2) $$\n",
    "\n",
    "## Slot : B2\n",
    "\n",
    "1. $$ (a-b)^2 = a^2 + b^2 - 2ab $$\n",
    "2. $$ (a-b-c)^2 = a^2 + b^2  + c^2 -2ab -2ca + 2bc $$\n",
    "\n",
    "\n",
    "## Slot : C1\n",
    "\n",
    "1. $$ (a+b)^2 = a^2 + b^2 + 2ab $$\n",
    "2. $$ (a-b+c) ^2 =  a^2 +b^2 + c^2 -2xy -2yz + 2xz$$\n",
    "\n",
    "\n",
    "\n",
    "## Slot : C2\n",
    "\n",
    "1. $$ (a-b)^2 = a^2 + b^2 - 2ab $$\n",
    "2. $$ (a+b)^3 = a^3 + b^3 + 3ab(a+b) $$\n",
    "\n",
    "## Slot D1\n",
    "1. $$ (a+b)^2 = a^2 + b^2 + 2ab $$\n",
    "2. $$ (a-b)^3 = a^3 - b^3 + 3ab(a-b) $$\n",
    "\n",
    "## Slot D2\n",
    "1. $$ (a-b)^2 = a^2 + b^2 - 2ab $$\n",
    "2. $$ (a + b-c) ^2 = a^2 + b^2 + c^2 + 2xy -2yz -2xz $$\n"
   ]
  },
  {
   "cell_type": "code",
   "execution_count": 1,
   "metadata": {
    "collapsed": true
   },
   "outputs": [],
   "source": [
    "import tensorflow as tf"
   ]
  },
  {
   "cell_type": "code",
   "execution_count": 13,
   "metadata": {},
   "outputs": [
    {
     "name": "stdout",
     "output_type": "stream",
     "text": [
      "4\n"
     ]
    }
   ],
   "source": [
    "#(a-b)^2 = a^2 + b^2 - 2ab\n",
    "x=tf.constant(5)\n",
    "y=tf.constant(3)\n",
    "with tf.name_scope(\"Lab1_Ass1\"):\n",
    "    with tf.name_scope(\"Scope_A\"):\n",
    "        a= tf.square(x)\n",
    "        b= tf.square(y)\n",
    "with tf.name_scope(\"Scope_B\"):\n",
    "    c= tf.add(a, b)\n",
    "    d= tf.multiply(x,y)\n",
    "    \n",
    "with tf.name_scope(\"Scope_C\"):\n",
    "    e= tf.multiply(2,d)\n",
    "    \n",
    "result=tf.subtract(c,e)\n",
    "with tf.Session() as sess:\n",
    "    writer = tf.summary.FileWriter(\"/tmp/tboard/output_2\",sess.graph)\n",
    "    print(sess.run(result))\n",
    "    writer.close()\n",
    "    \n",
    "    "
   ]
  },
  {
   "cell_type": "code",
   "execution_count": 12,
   "metadata": {},
   "outputs": [
    {
     "name": "stdout",
     "output_type": "stream",
     "text": [
      "152\n"
     ]
    }
   ],
   "source": [
    "#(a^3+ b^3) = (a+b)(a^2 -ab + b^2)\n",
    "x = tf.constant(3)\n",
    "y = tf.constant(5)\n",
    "with tf.name_scope(\"lab_assign1_2\"):\n",
    "    with tf.name_scope(\"Scope_A\"):\n",
    "        a=tf.square(x)\n",
    "        b=tf.square(y)\n",
    "with tf.name_scope(\"Scope_B\"):\n",
    "    c=tf.add(a,b)\n",
    "    d=tf.multiply(x,y)\n",
    "    \n",
    "with tf.name_scope(\"Scope_C\"):\n",
    "    e=tf.subtract(c,d)\n",
    "    \n",
    "    f=tf.add(x,y)\n",
    "        \n",
    "with tf.name_scope(\"Scope_D\"):\n",
    "    res=tf.multiply(f,e)\n",
    "    \n",
    "    \n",
    "with tf.Session() as sess:  \n",
    "    Writer = tf.summary.FileWriter(\"/tmp/tboard/output_5\",sess.graph)\n",
    "    print(sess.run(res))\n",
    "    Writer.close()\n"
   ]
  },
  {
   "cell_type": "code",
   "execution_count": null,
   "metadata": {
    "collapsed": true
   },
   "outputs": [],
   "source": []
  }
 ],
 "metadata": {
  "celltoolbar": "Slideshow",
  "kernelspec": {
   "display_name": "Python 3",
   "language": "python",
   "name": "python3"
  },
  "language_info": {
   "codemirror_mode": {
    "name": "ipython",
    "version": 3
   },
   "file_extension": ".py",
   "mimetype": "text/x-python",
   "name": "python",
   "nbconvert_exporter": "python",
   "pygments_lexer": "ipython3",
   "version": "3.6.1"
  }
 },
 "nbformat": 4,
 "nbformat_minor": 2
}
