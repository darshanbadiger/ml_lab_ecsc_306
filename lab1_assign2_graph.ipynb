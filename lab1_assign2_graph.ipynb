{
 "cells": [
  {
   "cell_type": "markdown",
   "metadata": {
    "slideshow": {
     "slide_type": "slide"
    }
   },
   "source": [
    "Write a program using tensorflow to calculate : \n",
    "    $$y=mx+c$$"
   ]
  },
  {
   "cell_type": "markdown",
   "metadata": {
    "slideshow": {
     "slide_type": "slide"
    }
   },
   "source": [
    "### Part 1\n",
    "\n",
    "1. Read 2 arrays x,y containing floating point values\n",
    "2. Calculate mean of x & y\n",
    "3. Calculate variance for x\n",
    "    $$variance(x)=sum((x-mean(x))^2)$$\n",
    "4. Calculate covariance of x & y\n",
    "    $$covariance = sum((x(i) - mean(x)) * (y(i) - mean(y)))$$\n",
    "5. Calculate value of c\n",
    "    $$c = covariance(x,y)/variance(x)$$\n",
    "6. Calculate value of m\n",
    "    $$m = mean(y) -c* mean(x)$$\n",
    "    "
   ]
  },
  {
   "cell_type": "code",
   "execution_count": 3,
   "metadata": {
    "collapsed": true
   },
   "outputs": [],
   "source": [
    "import tensorflow as tf"
   ]
  },
  {
   "cell_type": "code",
   "execution_count": 57,
   "metadata": {},
   "outputs": [
    {
     "name": "stdout",
     "output_type": "stream",
     "text": [
      "mean of X= 14.62\n"
     ]
    }
   ],
   "source": [
    "with tf.name_scope(\"mean_x\"):\n",
    "        a=tf.constant([8.0,6.0,30.2,27.02,9.8,6.7],shape=[1,6],name='a')\n",
    "      \n",
    "        x=tf.reduce_mean(a)\n",
    "        sess=tf.Session()\n",
    "print(\"mean of X=\",sess.run(x))"
   ]
  },
  {
   "cell_type": "code",
   "execution_count": 58,
   "metadata": {},
   "outputs": [
    {
     "name": "stdout",
     "output_type": "stream",
     "text": [
      "Mean of X= 14.3333333333\n"
     ]
    }
   ],
   "source": [
    "import tensorflow as tf\n",
    "\n",
    "x1=tf.constant([8.0,6.0,30.2,27.02,9.8,6.7])\n",
    "\n",
    "s=tf.constant(0)\n",
    "\n",
    "with tf.name_scope(\"Mean_of_X\"):\n",
    "    with tf.Session() as sess:\n",
    "        for i in range (len(sess.run(x1))):\n",
    "            output=sess.run(x1[i])\n",
    "            s=tf.add(s,output,name=\"add_values_of_x\")\n",
    "        c=tf.divide(s,len(sess.run(x1)), name=\"divide\")\n",
    "        avgx=sess.run(c)\n",
    "    print('Mean of X=',avgx)\n",
    "    \n"
   ]
  },
  {
   "cell_type": "code",
   "execution_count": 60,
   "metadata": {},
   "outputs": [
    {
     "name": "stdout",
     "output_type": "stream",
     "text": [
      "mean of Y= 11.4833\n"
     ]
    }
   ],
   "source": [
    "y1=tf.constant([17.0,9.0,19.5,1.0,15.6,6.8])\n",
    "with tf.name_scope(\"mean_y\"):\n",
    "    b=tf.constant([17.0,9.0,19.5,1.0,15.6,6.8],shape=[1,6],name='b')\n",
    "    y=tf.reduce_mean(b)\n",
    "    sess=tf.Session()\n",
    "print(\"mean of Y=\",sess.run(y))"
   ]
  },
  {
   "cell_type": "code",
   "execution_count": 61,
   "metadata": {},
   "outputs": [
    {
     "name": "stdout",
     "output_type": "stream",
     "text": [
      "Mean of Y= 11.1666666667\n"
     ]
    }
   ],
   "source": [
    "y1=tf.constant([17.0,9.0,19.5,1.0,15.6,6.8])\n",
    "s1=tf.constant(0)\n",
    "with tf.name_scope(\"Mean_of_Y\"):\n",
    "    with tf.Session() as sess:\n",
    "        for i in range (len(sess.run(y1))):\n",
    "            output=sess.run(y1[i])\n",
    "            s1=tf.add(s1,output)\n",
    "        d=tf.divide(s1,len(sess.run(y1)), name=\"Divide\")\n",
    "        avgy=sess.run(d)\n",
    "    print('Mean of Y=',avgy)"
   ]
  },
  {
   "cell_type": "code",
   "execution_count": 62,
   "metadata": {},
   "outputs": [
    {
     "name": "stdout",
     "output_type": "stream",
     "text": [
      "Variance= 601.077\n"
     ]
    }
   ],
   "source": [
    "#variance of x\n",
    "var=tf.constant(0.0)\n",
    "\n",
    "with tf.name_scope(\"variance\"):\n",
    "    with tf.Session() as sess:\n",
    "        for i in range (len(sess.run(x1))):\n",
    "            a1=tf.subtract(sess.run(x1[i]), avgx)\n",
    "            b1=tf.square(a1)\n",
    "            var=tf.add(var,b1)\n",
    "        varianc=sess.run(var)\n",
    "    print(\"Variance=\",varianc)"
   ]
  },
  {
   "cell_type": "code",
   "execution_count": 63,
   "metadata": {},
   "outputs": [
    {
     "name": "stdout",
     "output_type": "stream",
     "text": [
      "Coveriance of X,Y= -2.41334\n"
     ]
    }
   ],
   "source": [
    "#covarience of x and y\n",
    "cov=tf.constant(0.0)\n",
    "with tf.name_scope(\"cov\"):\n",
    "    with tf.Session() as sess:\n",
    "        for i in range(len(sess.run(x1))):\n",
    "            e=tf.subtract(sess.run(x1[i]),avgx)\n",
    "            f=tf.subtract(sess.run(y1[i]),avgy)\n",
    "            g=tf.multiply(e,f)\n",
    "            cov=tf.add(cov,g)\n",
    "        covr=sess.run(cov)\n",
    "print(\"Coveriance of X,Y=\",covr)\n",
    "            "
   ]
  },
  {
   "cell_type": "code",
   "execution_count": 64,
   "metadata": {},
   "outputs": [
    {
     "name": "stdout",
     "output_type": "stream",
     "text": [
      "Value of C= -0.00401502\n"
     ]
    }
   ],
   "source": [
    "#Value of c(constant)\n",
    "with tf.name_scope(\"Value_of_c\"):\n",
    "    with tf.Session() as sess:\n",
    "        t=tf.divide(cov,var)\n",
    "        c_value=sess.run(t)\n",
    "        print(\"Value of C=\",c_value)"
   ]
  },
  {
   "cell_type": "code",
   "execution_count": 65,
   "metadata": {},
   "outputs": [
    {
     "name": "stdout",
     "output_type": "stream",
     "text": [
      "Value of slope(M)= 11.1667\n"
     ]
    }
   ],
   "source": [
    "#Value of m(slope)\n",
    "with tf.name_scope(\"Value_of_m\"):\n",
    "    h=tf.to_float(c_value)\n",
    "    i=tf.to_float(avgx)\n",
    "    j=tf.multiply(h,i)\n",
    "    k=tf.to_float(avgy)\n",
    "    m=tf.subtract(k,j)\n",
    "    with tf.Session() as sess:\n",
    "        m=sess.run(k)\n",
    "print(\"Value of slope(M)=\",m)\n"
   ]
  },
  {
   "cell_type": "code",
   "execution_count": null,
   "metadata": {
    "collapsed": true
   },
   "outputs": [],
   "source": []
  },
  {
   "cell_type": "markdown",
   "metadata": {
    "slideshow": {
     "slide_type": "slide"
    }
   },
   "source": [
    "### Part 2\n",
    "\n",
    "1. Plot graph for actual values against predicted value\n",
    "2. Calculate root mean square error."
   ]
  },
  {
   "cell_type": "code",
   "execution_count": 87,
   "metadata": {},
   "outputs": [
    {
     "name": "stdout",
     "output_type": "stream",
     "text": [
      "[89.329323, 66.995987, 337.22931, 301.71933, 109.42933, 74.812653]\n"
     ]
    }
   ],
   "source": [
    "import tensorflow as tf\n",
    "import numpy as np\n",
    "import matplotlib.pyplot as plt\n",
    "\n",
    "with tf.Session() as sess:\n",
    "    x_grp=sess.run(x1)\n",
    "    y_grp=sess.run(y1)\n",
    "train_x=np.asarray(x_grp)\n",
    "train_y=np.asarray(y_grp)\n",
    "\n",
    "x_plot=tf.constant([8.0,6.0,30.2,27.02,9.8,6.7])\n",
    "with tf.Session() as sess:\n",
    "    x1_plot=sess.run(x_plot)\n",
    "x2_plot=np.asarray(x1_plot)\n",
    "\n",
    "y_plot=[0]*6\n",
    "\n",
    "with tf.Session() as sess:\n",
    "    for i in range (len(sess.run(x_plot))):\n",
    "        output=sess.run(x_plot[i])\n",
    "        l=tf.multiply(output,m)\n",
    "        n=tf.add(l,c_value)\n",
    "        y_plot[i]=sess.run(n)\n",
    "print (y_plot)\n"
   ]
  },
  {
   "cell_type": "code",
   "execution_count": 88,
   "metadata": {},
   "outputs": [
    {
     "data": {
      "image/png": "[encoded data removed]",
      "text/plain": [
       "<matplotlib.figure.Figure at 0x7f07313802e8>"
      ]
     },
     "metadata": {},
     "output_type": "display_data"
    }
   ],
   "source": [
    "plt.plot(train_x,train_y,'yo',label='Original data')\n",
    "plt.plot(x2_plot,y_plot, label='fitted line')\n",
    "plt.legend()\n",
    "plt.show()"
   ]
  },
  {
   "cell_type": "code",
   "execution_count": null,
   "metadata": {
    "collapsed": true
   },
   "outputs": [],
   "source": []
  }
 ],
 "metadata": {
  "celltoolbar": "Slideshow",
  "kernelspec": {
   "display_name": "Python 3",
   "language": "python",
   "name": "python3"
  },
  "language_info": {
   "codemirror_mode": {
    "name": "ipython",
    "version": 3
   },
   "file_extension": ".py",
   "mimetype": "text/x-python",
   "name": "python",
   "nbconvert_exporter": "python",
   "pygments_lexer": "ipython3",
   "version": "3.6.1"
  }
 },
 "nbformat": 4,
 "nbformat_minor": 2
}
